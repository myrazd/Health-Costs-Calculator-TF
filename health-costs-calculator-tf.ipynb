{
 "cells": [
  {
   "cell_type": "markdown",
   "id": "1306dedb",
   "metadata": {
    "papermill": {
     "duration": 0.006246,
     "end_time": "2024-08-09T14:41:44.355276",
     "exception": false,
     "start_time": "2024-08-09T14:41:44.349030",
     "status": "completed"
    },
    "tags": []
   },
   "source": [
    "# Predicting Healthcare Costs with TensorFlow Linear Regression\n",
    "\n",
    "* The following codes are written for the submission of the \"[Linear Regression Health Costs Calculator](https://www.freecodecamp.org/learn/machine-learning-with-python/machine-learning-with-python-projects/linear-regression-health-costs-calculator)\" challenge as part of the \"[Machine Learning with Python Certification](https://www.freecodecamp.org/learn/machine-learning-with-python/#tensorflow)\" by freeCodeCamp. The challenge is deemed successful if the model developed achieves an **MAE score of less than 3500**.\n",
    "\n",
    "* Kindly be notified that this notebook only serves as my personal notes referring to the materials provided in the course. All credit is attributable to the instructors of the courses."
   ]
  },
  {
   "cell_type": "code",
   "execution_count": 1,
   "id": "334d9775",
   "metadata": {
    "_cell_guid": "b1076dfc-b9ad-4769-8c92-a6c4dae69d19",
    "_uuid": "8f2839f25d086af736a60e9eeb907d3b93b6e0e5",
    "execution": {
     "iopub.execute_input": "2024-08-09T14:41:44.368415Z",
     "iopub.status.busy": "2024-08-09T14:41:44.368047Z",
     "iopub.status.idle": "2024-08-09T14:42:17.159117Z",
     "shell.execute_reply": "2024-08-09T14:42:17.158053Z"
    },
    "papermill": {
     "duration": 32.800749,
     "end_time": "2024-08-09T14:42:17.161662",
     "exception": false,
     "start_time": "2024-08-09T14:41:44.360913",
     "status": "completed"
    },
    "tags": []
   },
   "outputs": [
    {
     "name": "stderr",
     "output_type": "stream",
     "text": [
      "2024-08-09 14:42:06.738579: E external/local_xla/xla/stream_executor/cuda/cuda_dnn.cc:9261] Unable to register cuDNN factory: Attempting to register factory for plugin cuDNN when one has already been registered\n",
      "2024-08-09 14:42:06.738694: E external/local_xla/xla/stream_executor/cuda/cuda_fft.cc:607] Unable to register cuFFT factory: Attempting to register factory for plugin cuFFT when one has already been registered\n",
      "2024-08-09 14:42:06.865798: E external/local_xla/xla/stream_executor/cuda/cuda_blas.cc:1515] Unable to register cuBLAS factory: Attempting to register factory for plugin cuBLAS when one has already been registered\n"
     ]
    }
   ],
   "source": [
    "# Import libraries. You may or may not use all of these.\n",
    "!pip install -q git+https://github.com/tensorflow/docs\n",
    "import matplotlib.pyplot as plt\n",
    "import numpy as np\n",
    "import pandas as pd\n",
    "\n",
    "try:\n",
    "  # %tensorflow_version only exists in Colab.\n",
    "  %tensorflow_version 2.x\n",
    "except Exception:\n",
    "    pass\n",
    "import tensorflow as tf\n",
    "\n",
    "from tensorflow import keras\n",
    "from tensorflow.keras import layers\n",
    "\n",
    "import tensorflow_docs as tfdocs\n",
    "import tensorflow_docs.plots\n",
    "import tensorflow_docs.modeling\n",
    "\n",
    "from sklearn.model_selection import train_test_split\n",
    "from sklearn.preprocessing import StandardScaler"
   ]
  },
  {
   "cell_type": "markdown",
   "id": "0c61238d",
   "metadata": {
    "papermill": {
     "duration": 0.005334,
     "end_time": "2024-08-09T14:42:17.172969",
     "exception": false,
     "start_time": "2024-08-09T14:42:17.167635",
     "status": "completed"
    },
    "tags": []
   },
   "source": [
    "## Load the insurance dataset\n",
    "\n",
    "> We will use the Insurance dataset with the goal of predicting healthcare costs, given characteristics such as age, sex, bmi, etc."
   ]
  },
  {
   "cell_type": "code",
   "execution_count": 2,
   "id": "12798aa7",
   "metadata": {
    "execution": {
     "iopub.execute_input": "2024-08-09T14:42:17.186140Z",
     "iopub.status.busy": "2024-08-09T14:42:17.185052Z",
     "iopub.status.idle": "2024-08-09T14:42:18.633286Z",
     "shell.execute_reply": "2024-08-09T14:42:18.632244Z"
    },
    "papermill": {
     "duration": 1.45697,
     "end_time": "2024-08-09T14:42:18.635401",
     "exception": false,
     "start_time": "2024-08-09T14:42:17.178431",
     "status": "completed"
    },
    "tags": []
   },
   "outputs": [
    {
     "name": "stderr",
     "output_type": "stream",
     "text": [
      "/opt/conda/lib/python3.10/pty.py:89: RuntimeWarning: os.fork() was called. os.fork() is incompatible with multithreaded code, and JAX is multithreaded, so this will likely lead to a deadlock.\n",
      "  pid, fd = os.forkpty()\n"
     ]
    },
    {
     "name": "stdout",
     "output_type": "stream",
     "text": [
      "--2024-08-09 14:42:18--  https://cdn.freecodecamp.org/project-data/health-costs/insurance.csv\r\n",
      "Resolving cdn.freecodecamp.org (cdn.freecodecamp.org)... 172.67.70.149, 104.26.3.33, 104.26.2.33, ...\r\n",
      "Connecting to cdn.freecodecamp.org (cdn.freecodecamp.org)|172.67.70.149|:443... connected.\r\n",
      "HTTP request sent, awaiting response... 200 OK\r\n",
      "Length: 50264 (49K) [text/csv]\r\n",
      "Saving to: 'insurance.csv'\r\n",
      "\r\n",
      "insurance.csv       100%[===================>]  49.09K  --.-KB/s    in 0.004s  \r\n",
      "\r\n",
      "2024-08-09 14:42:18 (11.4 MB/s) - 'insurance.csv' saved [50264/50264]\r\n",
      "\r\n"
     ]
    },
    {
     "data": {
      "text/html": [
       "<div>\n",
       "<style scoped>\n",
       "    .dataframe tbody tr th:only-of-type {\n",
       "        vertical-align: middle;\n",
       "    }\n",
       "\n",
       "    .dataframe tbody tr th {\n",
       "        vertical-align: top;\n",
       "    }\n",
       "\n",
       "    .dataframe thead th {\n",
       "        text-align: right;\n",
       "    }\n",
       "</style>\n",
       "<table border=\"1\" class=\"dataframe\">\n",
       "  <thead>\n",
       "    <tr style=\"text-align: right;\">\n",
       "      <th></th>\n",
       "      <th>age</th>\n",
       "      <th>sex</th>\n",
       "      <th>bmi</th>\n",
       "      <th>children</th>\n",
       "      <th>smoker</th>\n",
       "      <th>region</th>\n",
       "      <th>expenses</th>\n",
       "    </tr>\n",
       "  </thead>\n",
       "  <tbody>\n",
       "    <tr>\n",
       "      <th>1333</th>\n",
       "      <td>50</td>\n",
       "      <td>male</td>\n",
       "      <td>31.0</td>\n",
       "      <td>3</td>\n",
       "      <td>no</td>\n",
       "      <td>northwest</td>\n",
       "      <td>10600.55</td>\n",
       "    </tr>\n",
       "    <tr>\n",
       "      <th>1334</th>\n",
       "      <td>18</td>\n",
       "      <td>female</td>\n",
       "      <td>31.9</td>\n",
       "      <td>0</td>\n",
       "      <td>no</td>\n",
       "      <td>northeast</td>\n",
       "      <td>2205.98</td>\n",
       "    </tr>\n",
       "    <tr>\n",
       "      <th>1335</th>\n",
       "      <td>18</td>\n",
       "      <td>female</td>\n",
       "      <td>36.9</td>\n",
       "      <td>0</td>\n",
       "      <td>no</td>\n",
       "      <td>southeast</td>\n",
       "      <td>1629.83</td>\n",
       "    </tr>\n",
       "    <tr>\n",
       "      <th>1336</th>\n",
       "      <td>21</td>\n",
       "      <td>female</td>\n",
       "      <td>25.8</td>\n",
       "      <td>0</td>\n",
       "      <td>no</td>\n",
       "      <td>southwest</td>\n",
       "      <td>2007.95</td>\n",
       "    </tr>\n",
       "    <tr>\n",
       "      <th>1337</th>\n",
       "      <td>61</td>\n",
       "      <td>female</td>\n",
       "      <td>29.1</td>\n",
       "      <td>0</td>\n",
       "      <td>yes</td>\n",
       "      <td>northwest</td>\n",
       "      <td>29141.36</td>\n",
       "    </tr>\n",
       "  </tbody>\n",
       "</table>\n",
       "</div>"
      ],
      "text/plain": [
       "      age     sex   bmi  children smoker     region  expenses\n",
       "1333   50    male  31.0         3     no  northwest  10600.55\n",
       "1334   18  female  31.9         0     no  northeast   2205.98\n",
       "1335   18  female  36.9         0     no  southeast   1629.83\n",
       "1336   21  female  25.8         0     no  southwest   2007.95\n",
       "1337   61  female  29.1         0    yes  northwest  29141.36"
      ]
     },
     "execution_count": 2,
     "metadata": {},
     "output_type": "execute_result"
    }
   ],
   "source": [
    "# Import data\n",
    "!wget https://cdn.freecodecamp.org/project-data/health-costs/insurance.csv\n",
    "dataset = pd.read_csv('insurance.csv')\n",
    "dataset.tail()"
   ]
  },
  {
   "cell_type": "markdown",
   "id": "2883f780",
   "metadata": {
    "papermill": {
     "duration": 0.005889,
     "end_time": "2024-08-09T14:42:18.647559",
     "exception": false,
     "start_time": "2024-08-09T14:42:18.641670",
     "status": "completed"
    },
    "tags": []
   },
   "source": [
    "## Explore the dataset\n",
    "\n",
    "> The dataset contains the following features."
   ]
  },
  {
   "cell_type": "code",
   "execution_count": 3,
   "id": "56b2b909",
   "metadata": {
    "execution": {
     "iopub.execute_input": "2024-08-09T14:42:18.661481Z",
     "iopub.status.busy": "2024-08-09T14:42:18.661109Z",
     "iopub.status.idle": "2024-08-09T14:42:18.684396Z",
     "shell.execute_reply": "2024-08-09T14:42:18.683399Z"
    },
    "papermill": {
     "duration": 0.03283,
     "end_time": "2024-08-09T14:42:18.686483",
     "exception": false,
     "start_time": "2024-08-09T14:42:18.653653",
     "status": "completed"
    },
    "tags": []
   },
   "outputs": [
    {
     "data": {
      "text/html": [
       "<div>\n",
       "<style scoped>\n",
       "    .dataframe tbody tr th:only-of-type {\n",
       "        vertical-align: middle;\n",
       "    }\n",
       "\n",
       "    .dataframe tbody tr th {\n",
       "        vertical-align: top;\n",
       "    }\n",
       "\n",
       "    .dataframe thead th {\n",
       "        text-align: right;\n",
       "    }\n",
       "</style>\n",
       "<table border=\"1\" class=\"dataframe\">\n",
       "  <thead>\n",
       "    <tr style=\"text-align: right;\">\n",
       "      <th></th>\n",
       "      <th>age</th>\n",
       "      <th>bmi</th>\n",
       "      <th>children</th>\n",
       "      <th>expenses</th>\n",
       "    </tr>\n",
       "  </thead>\n",
       "  <tbody>\n",
       "    <tr>\n",
       "      <th>count</th>\n",
       "      <td>1338.000000</td>\n",
       "      <td>1338.000000</td>\n",
       "      <td>1338.000000</td>\n",
       "      <td>1338.000000</td>\n",
       "    </tr>\n",
       "    <tr>\n",
       "      <th>mean</th>\n",
       "      <td>39.207025</td>\n",
       "      <td>30.665471</td>\n",
       "      <td>1.094918</td>\n",
       "      <td>13270.422414</td>\n",
       "    </tr>\n",
       "    <tr>\n",
       "      <th>std</th>\n",
       "      <td>14.049960</td>\n",
       "      <td>6.098382</td>\n",
       "      <td>1.205493</td>\n",
       "      <td>12110.011240</td>\n",
       "    </tr>\n",
       "    <tr>\n",
       "      <th>min</th>\n",
       "      <td>18.000000</td>\n",
       "      <td>16.000000</td>\n",
       "      <td>0.000000</td>\n",
       "      <td>1121.870000</td>\n",
       "    </tr>\n",
       "    <tr>\n",
       "      <th>25%</th>\n",
       "      <td>27.000000</td>\n",
       "      <td>26.300000</td>\n",
       "      <td>0.000000</td>\n",
       "      <td>4740.287500</td>\n",
       "    </tr>\n",
       "    <tr>\n",
       "      <th>50%</th>\n",
       "      <td>39.000000</td>\n",
       "      <td>30.400000</td>\n",
       "      <td>1.000000</td>\n",
       "      <td>9382.030000</td>\n",
       "    </tr>\n",
       "    <tr>\n",
       "      <th>75%</th>\n",
       "      <td>51.000000</td>\n",
       "      <td>34.700000</td>\n",
       "      <td>2.000000</td>\n",
       "      <td>16639.915000</td>\n",
       "    </tr>\n",
       "    <tr>\n",
       "      <th>max</th>\n",
       "      <td>64.000000</td>\n",
       "      <td>53.100000</td>\n",
       "      <td>5.000000</td>\n",
       "      <td>63770.430000</td>\n",
       "    </tr>\n",
       "  </tbody>\n",
       "</table>\n",
       "</div>"
      ],
      "text/plain": [
       "               age          bmi     children      expenses\n",
       "count  1338.000000  1338.000000  1338.000000   1338.000000\n",
       "mean     39.207025    30.665471     1.094918  13270.422414\n",
       "std      14.049960     6.098382     1.205493  12110.011240\n",
       "min      18.000000    16.000000     0.000000   1121.870000\n",
       "25%      27.000000    26.300000     0.000000   4740.287500\n",
       "50%      39.000000    30.400000     1.000000   9382.030000\n",
       "75%      51.000000    34.700000     2.000000  16639.915000\n",
       "max      64.000000    53.100000     5.000000  63770.430000"
      ]
     },
     "execution_count": 3,
     "metadata": {},
     "output_type": "execute_result"
    }
   ],
   "source": [
    "dataset.describe()"
   ]
  },
  {
   "cell_type": "markdown",
   "id": "1bd4baca",
   "metadata": {
    "papermill": {
     "duration": 0.006174,
     "end_time": "2024-08-09T14:42:18.699044",
     "exception": false,
     "start_time": "2024-08-09T14:42:18.692870",
     "status": "completed"
    },
    "tags": []
   },
   "source": [
    "> There are 1338 examples in the dataset."
   ]
  },
  {
   "cell_type": "code",
   "execution_count": 4,
   "id": "c5090917",
   "metadata": {
    "execution": {
     "iopub.execute_input": "2024-08-09T14:42:18.713025Z",
     "iopub.status.busy": "2024-08-09T14:42:18.712646Z",
     "iopub.status.idle": "2024-08-09T14:42:18.718790Z",
     "shell.execute_reply": "2024-08-09T14:42:18.717890Z"
    },
    "papermill": {
     "duration": 0.015545,
     "end_time": "2024-08-09T14:42:18.720742",
     "exception": false,
     "start_time": "2024-08-09T14:42:18.705197",
     "status": "completed"
    },
    "tags": []
   },
   "outputs": [
    {
     "data": {
      "text/plain": [
       "1338"
      ]
     },
     "execution_count": 4,
     "metadata": {},
     "output_type": "execute_result"
    }
   ],
   "source": [
    "dataset.shape[0]"
   ]
  },
  {
   "cell_type": "markdown",
   "id": "05a9a3d0",
   "metadata": {
    "papermill": {
     "duration": 0.006037,
     "end_time": "2024-08-09T14:42:18.734147",
     "exception": false,
     "start_time": "2024-08-09T14:42:18.728110",
     "status": "completed"
    },
    "tags": []
   },
   "source": [
    "> The majority of patients are in their 20's and 30's."
   ]
  },
  {
   "cell_type": "code",
   "execution_count": 5,
   "id": "da76823e",
   "metadata": {
    "execution": {
     "iopub.execute_input": "2024-08-09T14:42:18.748163Z",
     "iopub.status.busy": "2024-08-09T14:42:18.747784Z",
     "iopub.status.idle": "2024-08-09T14:42:19.045542Z",
     "shell.execute_reply": "2024-08-09T14:42:19.044581Z"
    },
    "papermill": {
     "duration": 0.308837,
     "end_time": "2024-08-09T14:42:19.049188",
     "exception": false,
     "start_time": "2024-08-09T14:42:18.740351",
     "status": "completed"
    },
    "tags": []
   },
   "outputs": [
    {
     "data": {
      "text/plain": [
       "<Axes: >"
      ]
     },
     "execution_count": 5,
     "metadata": {},
     "output_type": "execute_result"
    },
    {
     "data": {
      "image/png": "[encoded data removed]",
      "text/plain": [
       "<Figure size 640x480 with 1 Axes>"
      ]
     },
     "metadata": {},
     "output_type": "display_data"
    }
   ],
   "source": [
    "dataset.age.hist(bins=20)"
   ]
  },
  {
   "cell_type": "markdown",
   "id": "1284f13f",
   "metadata": {
    "papermill": {
     "duration": 0.006838,
     "end_time": "2024-08-09T14:42:19.069422",
     "exception": false,
     "start_time": "2024-08-09T14:42:19.062584",
     "status": "completed"
    },
    "tags": []
   },
   "source": [
    "> There are approximately the same amount of female patients and male patients."
   ]
  },
  {
   "cell_type": "code",
   "execution_count": 6,
   "id": "c76d052a",
   "metadata": {
    "execution": {
     "iopub.execute_input": "2024-08-09T14:42:19.084730Z",
     "iopub.status.busy": "2024-08-09T14:42:19.084343Z",
     "iopub.status.idle": "2024-08-09T14:42:19.291040Z",
     "shell.execute_reply": "2024-08-09T14:42:19.290047Z"
    },
    "papermill": {
     "duration": 0.217078,
     "end_time": "2024-08-09T14:42:19.293183",
     "exception": false,
     "start_time": "2024-08-09T14:42:19.076105",
     "status": "completed"
    },
    "tags": []
   },
   "outputs": [
    {
     "data": {
      "text/plain": [
       "<Axes: ylabel='sex'>"
      ]
     },
     "execution_count": 6,
     "metadata": {},
     "output_type": "execute_result"
    },
    {
     "data": {
      "image/png": "[encoded data removed]",
      "text/plain": [
       "<Figure size 640x480 with 1 Axes>"
      ]
     },
     "metadata": {},
     "output_type": "display_data"
    }
   ],
   "source": [
    "dataset.sex.value_counts().plot(kind='barh')"
   ]
  },
  {
   "cell_type": "markdown",
   "id": "c60c0f33",
   "metadata": {
    "papermill": {
     "duration": 0.006755,
     "end_time": "2024-08-09T14:42:19.307144",
     "exception": false,
     "start_time": "2024-08-09T14:42:19.300389",
     "status": "completed"
    },
    "tags": []
   },
   "source": [
    "> The majority of patients were non-smokers."
   ]
  },
  {
   "cell_type": "code",
   "execution_count": 7,
   "id": "b4e4d7b5",
   "metadata": {
    "execution": {
     "iopub.execute_input": "2024-08-09T14:42:19.322681Z",
     "iopub.status.busy": "2024-08-09T14:42:19.322295Z",
     "iopub.status.idle": "2024-08-09T14:42:19.515055Z",
     "shell.execute_reply": "2024-08-09T14:42:19.514088Z"
    },
    "papermill": {
     "duration": 0.203124,
     "end_time": "2024-08-09T14:42:19.517190",
     "exception": false,
     "start_time": "2024-08-09T14:42:19.314066",
     "status": "completed"
    },
    "tags": []
   },
   "outputs": [
    {
     "data": {
      "text/plain": [
       "<Axes: ylabel='smoker'>"
      ]
     },
     "execution_count": 7,
     "metadata": {},
     "output_type": "execute_result"
    },
    {
     "data": {
      "image/png": "[encoded data removed]",
      "text/plain": [
       "<Figure size 640x480 with 1 Axes>"
      ]
     },
     "metadata": {},
     "output_type": "display_data"
    }
   ],
   "source": [
    "dataset['smoker'].value_counts().plot(kind='barh')"
   ]
  },
  {
   "cell_type": "code",
   "execution_count": 8,
   "id": "b0e7cd25",
   "metadata": {
    "execution": {
     "iopub.execute_input": "2024-08-09T14:42:19.533984Z",
     "iopub.status.busy": "2024-08-09T14:42:19.533088Z",
     "iopub.status.idle": "2024-08-09T14:42:20.364707Z",
     "shell.execute_reply": "2024-08-09T14:42:20.363589Z"
    },
    "papermill": {
     "duration": 0.842483,
     "end_time": "2024-08-09T14:42:20.367211",
     "exception": false,
     "start_time": "2024-08-09T14:42:19.524728",
     "status": "completed"
    },
    "tags": []
   },
   "outputs": [
    {
     "data": {
      "image/png": "[encoded data removed]",
      "text/plain": [
       "<Figure size 1400x1400 with 4 Axes>"
      ]
     },
     "metadata": {},
     "output_type": "display_data"
    }
   ],
   "source": [
    "### plotting histograms for numerical attributes\n",
    "\n",
    "dataset.hist(figsize=(14,14))\n",
    "plt.show()"
   ]
  },
  {
   "cell_type": "markdown",
   "id": "16bac682",
   "metadata": {
    "papermill": {
     "duration": 0.007936,
     "end_time": "2024-08-09T14:42:20.383426",
     "exception": false,
     "start_time": "2024-08-09T14:42:20.375490",
     "status": "completed"
    },
    "tags": []
   },
   "source": [
    "## Feature Engineering for the Model"
   ]
  },
  {
   "cell_type": "code",
   "execution_count": 9,
   "id": "d8c5b2af",
   "metadata": {
    "execution": {
     "iopub.execute_input": "2024-08-09T14:42:20.401368Z",
     "iopub.status.busy": "2024-08-09T14:42:20.400473Z",
     "iopub.status.idle": "2024-08-09T14:42:20.415954Z",
     "shell.execute_reply": "2024-08-09T14:42:20.415130Z"
    },
    "papermill": {
     "duration": 0.026598,
     "end_time": "2024-08-09T14:42:20.417991",
     "exception": false,
     "start_time": "2024-08-09T14:42:20.391393",
     "status": "completed"
    },
    "tags": []
   },
   "outputs": [],
   "source": [
    "# Convert categorical variables using one-hot encoding\n",
    "categorical_columns = ['sex', 'smoker', 'region']\n",
    "dataset = pd.get_dummies(dataset, columns=categorical_columns, drop_first=True)"
   ]
  },
  {
   "cell_type": "code",
   "execution_count": 10,
   "id": "327a554a",
   "metadata": {
    "execution": {
     "iopub.execute_input": "2024-08-09T14:42:20.436283Z",
     "iopub.status.busy": "2024-08-09T14:42:20.435946Z",
     "iopub.status.idle": "2024-08-09T14:42:20.442096Z",
     "shell.execute_reply": "2024-08-09T14:42:20.440836Z"
    },
    "papermill": {
     "duration": 0.017962,
     "end_time": "2024-08-09T14:42:20.444311",
     "exception": false,
     "start_time": "2024-08-09T14:42:20.426349",
     "status": "completed"
    },
    "tags": []
   },
   "outputs": [],
   "source": [
    "# Separate features and target variable\n",
    "X = dataset.drop('expenses', axis=1)\n",
    "y = dataset['expenses']"
   ]
  },
  {
   "cell_type": "markdown",
   "id": "31b167e0",
   "metadata": {
    "papermill": {
     "duration": 0.007934,
     "end_time": "2024-08-09T14:42:20.462349",
     "exception": false,
     "start_time": "2024-08-09T14:42:20.454415",
     "status": "completed"
    },
    "tags": []
   },
   "source": [
    "> It is standard practice in the machine learning and data science areas to use random_state=42 in train_test_split. Other than being a popular arbitrary pick, number 42 has no particular significance. It makes sure that the data split does not change across code runs, which makes the outcomes repeatable. Essentially, it offers a means of managing unpredictability throughout the data-splitting procedure."
   ]
  },
  {
   "cell_type": "code",
   "execution_count": 11,
   "id": "4e06b680",
   "metadata": {
    "execution": {
     "iopub.execute_input": "2024-08-09T14:42:20.480026Z",
     "iopub.status.busy": "2024-08-09T14:42:20.479644Z",
     "iopub.status.idle": "2024-08-09T14:42:20.488457Z",
     "shell.execute_reply": "2024-08-09T14:42:20.487541Z"
    },
    "papermill": {
     "duration": 0.019978,
     "end_time": "2024-08-09T14:42:20.490459",
     "exception": false,
     "start_time": "2024-08-09T14:42:20.470481",
     "status": "completed"
    },
    "tags": []
   },
   "outputs": [],
   "source": [
    "# Split the data into training and testing sets\n",
    "X_train, X_test, y_train, y_test = train_test_split(X, y, test_size=0.2, random_state=42)"
   ]
  },
  {
   "cell_type": "code",
   "execution_count": 12,
   "id": "3626d12e",
   "metadata": {
    "execution": {
     "iopub.execute_input": "2024-08-09T14:42:20.507875Z",
     "iopub.status.busy": "2024-08-09T14:42:20.507244Z",
     "iopub.status.idle": "2024-08-09T14:42:20.519641Z",
     "shell.execute_reply": "2024-08-09T14:42:20.518837Z"
    },
    "papermill": {
     "duration": 0.023287,
     "end_time": "2024-08-09T14:42:20.521646",
     "exception": false,
     "start_time": "2024-08-09T14:42:20.498359",
     "status": "completed"
    },
    "tags": []
   },
   "outputs": [],
   "source": [
    "# Standardize the features\n",
    "scaler = StandardScaler()\n",
    "X_train_scaled = scaler.fit_transform(X_train)\n",
    "X_test_scaled = scaler.transform(X_test)\n",
    "\n",
    "# Assign the scaled test features to test_dataset and the test labels to test_labels\n",
    "test_dataset = X_test_scaled\n",
    "test_labels = y_test"
   ]
  },
  {
   "cell_type": "code",
   "execution_count": 13,
   "id": "7572aedb",
   "metadata": {
    "execution": {
     "iopub.execute_input": "2024-08-09T14:42:20.539378Z",
     "iopub.status.busy": "2024-08-09T14:42:20.538970Z",
     "iopub.status.idle": "2024-08-09T14:42:20.544426Z",
     "shell.execute_reply": "2024-08-09T14:42:20.543498Z"
    },
    "papermill": {
     "duration": 0.019481,
     "end_time": "2024-08-09T14:42:20.549411",
     "exception": false,
     "start_time": "2024-08-09T14:42:20.529930",
     "status": "completed"
    },
    "tags": []
   },
   "outputs": [],
   "source": [
    "# Set random seed for reproducibility\n",
    "np.random.seed(42)\n",
    "tf.random.set_seed(42)"
   ]
  },
  {
   "cell_type": "markdown",
   "id": "69b512bf",
   "metadata": {
    "papermill": {
     "duration": 0.009418,
     "end_time": "2024-08-09T14:42:20.568261",
     "exception": false,
     "start_time": "2024-08-09T14:42:20.558843",
     "status": "completed"
    },
    "tags": []
   },
   "source": [
    "## Modelling"
   ]
  },
  {
   "cell_type": "markdown",
   "id": "c761b102",
   "metadata": {
    "papermill": {
     "duration": 0.011716,
     "end_time": "2024-08-09T14:42:20.592122",
     "exception": false,
     "start_time": "2024-08-09T14:42:20.580406",
     "status": "completed"
    },
    "tags": []
   },
   "source": [
    "### Simple linear regression model\n",
    "model = tf.keras.Sequential([\n",
    "    tf.keras.layers.Dense(units=1, input_shape=X_train_scaled.shape[1:])\n",
    "])\n",
    "\n",
    "**Testing set Mean Abs Error: 12965.08 expenses**\n",
    "\n",
    "### Adding more layers\n",
    "model = tf.keras.Sequential([\n",
    "    tf.keras.layers.Dense(units=64, activation='relu', input_shape=X_train_scaled.shape[1:]),\n",
    "    tf.keras.layers.Dense(units=64, activation='relu'),\n",
    "    tf.keras.layers.Dense(units=1)\n",
    "])\n",
    "\n",
    "**Testing set Mean Abs Error: 3912.43 expenses**\n",
    "\n",
    "### Dropout for regularization\n",
    "model = tf.keras.Sequential([\n",
    "    tf.keras.layers.Dense(units=64, activation='relu', input_shape=X_train_scaled.shape[1:]),\n",
    "    tf.keras.layers.Dropout(0.2),\n",
    "    tf.keras.layers.Dense(units=64, activation='relu'),\n",
    "    tf.keras.layers.Dropout(0.2),\n",
    "    tf.keras.layers.Dense(units=1)\n",
    "])\n",
    "\n",
    "**Testing set Mean Abs Error: 3950.89 expenses**\n",
    "\n",
    "### Early stopping\n",
    "early_stopping = tf.keras.callbacks.EarlyStopping(\n",
    "    monitor='val_loss',\n",
    "    patience=10,\n",
    "    restore_best_weights=True\n",
    ")\n",
    "\n",
    "model.fit(\n",
    "    X_train_scaled, y_train,\n",
    "    epochs=100,\n",
    "    validation_split=0.2,  # Use a portion of data for validation\n",
    "    callbacks=[early_stopping],\n",
    "    verbose=0\n",
    ")\n",
    "\n",
    "**Testing set Mean Abs Error: 3714.61 expenses**"
   ]
  },
  {
   "cell_type": "code",
   "execution_count": 14,
   "id": "06fb6a16",
   "metadata": {
    "execution": {
     "iopub.execute_input": "2024-08-09T14:42:20.615013Z",
     "iopub.status.busy": "2024-08-09T14:42:20.614467Z",
     "iopub.status.idle": "2024-08-09T14:42:39.266473Z",
     "shell.execute_reply": "2024-08-09T14:42:39.265500Z"
    },
    "papermill": {
     "duration": 18.666325,
     "end_time": "2024-08-09T14:42:39.268808",
     "exception": false,
     "start_time": "2024-08-09T14:42:20.602483",
     "status": "completed"
    },
    "tags": []
   },
   "outputs": [
    {
     "name": "stdout",
     "output_type": "stream",
     "text": [
      "Epoch 1/100\n"
     ]
    },
    {
     "name": "stderr",
     "output_type": "stream",
     "text": [
      "/opt/conda/lib/python3.10/site-packages/keras/src/layers/core/dense.py:86: UserWarning: Do not pass an `input_shape`/`input_dim` argument to a layer. When using Sequential models, prefer using an `Input(shape)` object as the first layer in the model instead.\n",
      "  super().__init__(activity_regularizer=activity_regularizer, **kwargs)\n"
     ]
    },
    {
     "name": "stdout",
     "output_type": "stream",
     "text": [
      "\u001b[1m27/27\u001b[0m \u001b[32m━━━━━━━━━━━━━━━━━━━━\u001b[0m\u001b[37m\u001b[0m \u001b[1m1s\u001b[0m 9ms/step - loss: 280292512.0000 - mae: 12693.3496 - mse: 280292512.0000 - val_loss: 310235456.0000 - val_mae: 12650.7988 - val_mse: 310235456.0000\n",
      "Epoch 2/100\n",
      "\u001b[1m27/27\u001b[0m \u001b[32m━━━━━━━━━━━━━━━━━━━━\u001b[0m\u001b[37m\u001b[0m \u001b[1m0s\u001b[0m 3ms/step - loss: 280124800.0000 - mae: 12687.5469 - mse: 280124800.0000 - val_loss: 309902240.0000 - val_mae: 12639.6533 - val_mse: 309902240.0000\n",
      "Epoch 3/100\n",
      "\u001b[1m27/27\u001b[0m \u001b[32m━━━━━━━━━━━━━━━━━━━━\u001b[0m\u001b[37m\u001b[0m \u001b[1m0s\u001b[0m 3ms/step - loss: 279697024.0000 - mae: 12673.2275 - mse: 279697024.0000 - val_loss: 309131520.0000 - val_mae: 12615.4541 - val_mse: 309131520.0000\n",
      "Epoch 4/100\n",
      "\u001b[1m27/27\u001b[0m \u001b[32m━━━━━━━━━━━━━━━━━━━━\u001b[0m\u001b[37m\u001b[0m \u001b[1m0s\u001b[0m 3ms/step - loss: 278768160.0000 - mae: 12643.6846 - mse: 278768160.0000 - val_loss: 307596416.0000 - val_mae: 12569.6387 - val_mse: 307596416.0000\n",
      "Epoch 5/100\n",
      "\u001b[1m27/27\u001b[0m \u001b[32m━━━━━━━━━━━━━━━━━━━━\u001b[0m\u001b[37m\u001b[0m \u001b[1m0s\u001b[0m 3ms/step - loss: 276997632.0000 - mae: 12589.5127 - mse: 276997632.0000 - val_loss: 304909184.0000 - val_mae: 12492.6006 - val_mse: 304909184.0000\n",
      "Epoch 6/100\n",
      "\u001b[1m27/27\u001b[0m \u001b[32m━━━━━━━━━━━━━━━━━━━━\u001b[0m\u001b[37m\u001b[0m \u001b[1m0s\u001b[0m 3ms/step - loss: 274012320.0000 - mae: 12500.1445 - mse: 274012320.0000 - val_loss: 300672864.0000 - val_mae: 12374.3691 - val_mse: 300672864.0000\n",
      "Epoch 7/100\n",
      "\u001b[1m27/27\u001b[0m \u001b[32m━━━━━━━━━━━━━━━━━━━━\u001b[0m\u001b[37m\u001b[0m \u001b[1m0s\u001b[0m 3ms/step - loss: 269451680.0000 - mae: 12364.5518 - mse: 269451680.0000 - val_loss: 294524480.0000 - val_mae: 12205.2910 - val_mse: 294524480.0000\n",
      "Epoch 8/100\n",
      "\u001b[1m27/27\u001b[0m \u001b[32m━━━━━━━━━━━━━━━━━━━━\u001b[0m\u001b[37m\u001b[0m \u001b[1m0s\u001b[0m 3ms/step - loss: 263053664.0000 - mae: 12178.4463 - mse: 263053664.0000 - val_loss: 286127392.0000 - val_mae: 11976.1025 - val_mse: 286127392.0000\n",
      "Epoch 9/100\n",
      "\u001b[1m27/27\u001b[0m \u001b[32m━━━━━━━━━━━━━━━━━━━━\u001b[0m\u001b[37m\u001b[0m \u001b[1m0s\u001b[0m 3ms/step - loss: 254533408.0000 - mae: 11928.8164 - mse: 254533408.0000 - val_loss: 275247520.0000 - val_mae: 11678.3623 - val_mse: 275247520.0000\n",
      "Epoch 10/100\n",
      "\u001b[1m27/27\u001b[0m \u001b[32m━━━━━━━━━━━━━━━━━━━━\u001b[0m\u001b[37m\u001b[0m \u001b[1m0s\u001b[0m 3ms/step - loss: 243438000.0000 - mae: 11599.5859 - mse: 243438000.0000 - val_loss: 261850432.0000 - val_mae: 11306.4297 - val_mse: 261850432.0000\n",
      "Epoch 11/100\n",
      "\u001b[1m27/27\u001b[0m \u001b[32m━━━━━━━━━━━━━━━━━━━━\u001b[0m\u001b[37m\u001b[0m \u001b[1m0s\u001b[0m 3ms/step - loss: 230443696.0000 - mae: 11206.4463 - mse: 230443696.0000 - val_loss: 246037040.0000 - val_mae: 10857.3330 - val_mse: 246037040.0000\n",
      "Epoch 12/100\n",
      "\u001b[1m27/27\u001b[0m \u001b[32m━━━━━━━━━━━━━━━━━━━━\u001b[0m\u001b[37m\u001b[0m \u001b[1m0s\u001b[0m 3ms/step - loss: 215057120.0000 - mae: 10731.3516 - mse: 215057120.0000 - val_loss: 228004432.0000 - val_mae: 10330.1924 - val_mse: 228004432.0000\n",
      "Epoch 13/100\n",
      "\u001b[1m27/27\u001b[0m \u001b[32m━━━━━━━━━━━━━━━━━━━━\u001b[0m\u001b[37m\u001b[0m \u001b[1m0s\u001b[0m 3ms/step - loss: 197443312.0000 - mae: 10182.8232 - mse: 197443312.0000 - val_loss: 208138864.0000 - val_mae: 9728.7549 - val_mse: 208138864.0000\n",
      "Epoch 14/100\n",
      "\u001b[1m27/27\u001b[0m \u001b[32m━━━━━━━━━━━━━━━━━━━━\u001b[0m\u001b[37m\u001b[0m \u001b[1m0s\u001b[0m 3ms/step - loss: 179432992.0000 - mae: 9576.2256 - mse: 179432992.0000 - val_loss: 187192928.0000 - val_mae: 9070.5068 - val_mse: 187192928.0000\n",
      "Epoch 15/100\n",
      "\u001b[1m27/27\u001b[0m \u001b[32m━━━━━━━━━━━━━━━━━━━━\u001b[0m\u001b[37m\u001b[0m \u001b[1m0s\u001b[0m 3ms/step - loss: 160136192.0000 - mae: 8919.4355 - mse: 160136192.0000 - val_loss: 165878896.0000 - val_mae: 8386.5459 - val_mse: 165878896.0000\n",
      "Epoch 16/100\n",
      "\u001b[1m27/27\u001b[0m \u001b[32m━━━━━━━━━━━━━━━━━━━━\u001b[0m\u001b[37m\u001b[0m \u001b[1m0s\u001b[0m 3ms/step - loss: 140922912.0000 - mae: 8198.4414 - mse: 140922912.0000 - val_loss: 144916016.0000 - val_mae: 7692.4712 - val_mse: 144916016.0000\n",
      "Epoch 17/100\n",
      "\u001b[1m27/27\u001b[0m \u001b[32m━━━━━━━━━━━━━━━━━━━━\u001b[0m\u001b[37m\u001b[0m \u001b[1m0s\u001b[0m 2ms/step - loss: 121405864.0000 - mae: 7457.9404 - mse: 121405864.0000 - val_loss: 125061312.0000 - val_mae: 7010.6099 - val_mse: 125061312.0000\n",
      "Epoch 18/100\n",
      "\u001b[1m27/27\u001b[0m \u001b[32m━━━━━━━━━━━━━━━━━━━━\u001b[0m\u001b[37m\u001b[0m \u001b[1m0s\u001b[0m 2ms/step - loss: 104738024.0000 - mae: 6804.3979 - mse: 104738024.0000 - val_loss: 106987224.0000 - val_mae: 6352.1021 - val_mse: 106987224.0000\n",
      "Epoch 19/100\n",
      "\u001b[1m27/27\u001b[0m \u001b[32m━━━━━━━━━━━━━━━━━━━━\u001b[0m\u001b[37m\u001b[0m \u001b[1m0s\u001b[0m 3ms/step - loss: 88094608.0000 - mae: 6115.1069 - mse: 88094608.0000 - val_loss: 91169440.0000 - val_mae: 5767.8691 - val_mse: 91169440.0000\n",
      "Epoch 20/100\n",
      "\u001b[1m27/27\u001b[0m \u001b[32m━━━━━━━━━━━━━━━━━━━━\u001b[0m\u001b[37m\u001b[0m \u001b[1m0s\u001b[0m 3ms/step - loss: 73395592.0000 - mae: 5491.2642 - mse: 73395592.0000 - val_loss: 77937824.0000 - val_mae: 5256.7939 - val_mse: 77937824.0000\n",
      "Epoch 21/100\n",
      "\u001b[1m27/27\u001b[0m \u001b[32m━━━━━━━━━━━━━━━━━━━━\u001b[0m\u001b[37m\u001b[0m \u001b[1m0s\u001b[0m 3ms/step - loss: 63782964.0000 - mae: 5088.2100 - mse: 63782964.0000 - val_loss: 67172056.0000 - val_mae: 4839.7183 - val_mse: 67172056.0000\n",
      "Epoch 22/100\n",
      "\u001b[1m27/27\u001b[0m \u001b[32m━━━━━━━━━━━━━━━━━━━━\u001b[0m\u001b[37m\u001b[0m \u001b[1m0s\u001b[0m 3ms/step - loss: 55059160.0000 - mae: 4703.9238 - mse: 55059160.0000 - val_loss: 58779444.0000 - val_mae: 4563.5298 - val_mse: 58779444.0000\n",
      "Epoch 23/100\n",
      "\u001b[1m27/27\u001b[0m \u001b[32m━━━━━━━━━━━━━━━━━━━━\u001b[0m\u001b[37m\u001b[0m \u001b[1m0s\u001b[0m 3ms/step - loss: 49431432.0000 - mae: 4471.4258 - mse: 49431432.0000 - val_loss: 52421844.0000 - val_mae: 4385.0737 - val_mse: 52421844.0000\n",
      "Epoch 24/100\n",
      "\u001b[1m27/27\u001b[0m \u001b[32m━━━━━━━━━━━━━━━━━━━━\u001b[0m\u001b[37m\u001b[0m \u001b[1m0s\u001b[0m 3ms/step - loss: 43213812.0000 - mae: 4202.7202 - mse: 43213812.0000 - val_loss: 47751772.0000 - val_mae: 4275.4028 - val_mse: 47751772.0000\n",
      "Epoch 25/100\n",
      "\u001b[1m27/27\u001b[0m \u001b[32m━━━━━━━━━━━━━━━━━━━━\u001b[0m\u001b[37m\u001b[0m \u001b[1m0s\u001b[0m 3ms/step - loss: 39723024.0000 - mae: 4031.0537 - mse: 39723024.0000 - val_loss: 44279668.0000 - val_mae: 4222.4556 - val_mse: 44279668.0000\n",
      "Epoch 26/100\n",
      "\u001b[1m27/27\u001b[0m \u001b[32m━━━━━━━━━━━━━━━━━━━━\u001b[0m\u001b[37m\u001b[0m \u001b[1m0s\u001b[0m 3ms/step - loss: 36493688.0000 - mae: 3972.6309 - mse: 36493688.0000 - val_loss: 41743404.0000 - val_mae: 4186.5771 - val_mse: 41743404.0000\n",
      "Epoch 27/100\n",
      "\u001b[1m27/27\u001b[0m \u001b[32m━━━━━━━━━━━━━━━━━━━━\u001b[0m\u001b[37m\u001b[0m \u001b[1m0s\u001b[0m 3ms/step - loss: 36047192.0000 - mae: 4050.5142 - mse: 36047192.0000 - val_loss: 39833424.0000 - val_mae: 4156.3804 - val_mse: 39833424.0000\n",
      "Epoch 28/100\n",
      "\u001b[1m27/27\u001b[0m \u001b[32m━━━━━━━━━━━━━━━━━━━━\u001b[0m\u001b[37m\u001b[0m \u001b[1m0s\u001b[0m 3ms/step - loss: 33718956.0000 - mae: 3954.5884 - mse: 33718956.0000 - val_loss: 38442312.0000 - val_mae: 4133.2866 - val_mse: 38442312.0000\n",
      "Epoch 29/100\n",
      "\u001b[1m27/27\u001b[0m \u001b[32m━━━━━━━━━━━━━━━━━━━━\u001b[0m\u001b[37m\u001b[0m \u001b[1m0s\u001b[0m 3ms/step - loss: 34710300.0000 - mae: 4079.9465 - mse: 34710300.0000 - val_loss: 37367460.0000 - val_mae: 4116.6841 - val_mse: 37367460.0000\n",
      "Epoch 30/100\n",
      "\u001b[1m27/27\u001b[0m \u001b[32m━━━━━━━━━━━━━━━━━━━━\u001b[0m\u001b[37m\u001b[0m \u001b[1m0s\u001b[0m 3ms/step - loss: 34050900.0000 - mae: 4120.2358 - mse: 34050900.0000 - val_loss: 36629228.0000 - val_mae: 4096.7256 - val_mse: 36629228.0000\n",
      "Epoch 31/100\n",
      "\u001b[1m27/27\u001b[0m \u001b[32m━━━━━━━━━━━━━━━━━━━━\u001b[0m\u001b[37m\u001b[0m \u001b[1m0s\u001b[0m 3ms/step - loss: 34399564.0000 - mae: 4119.8267 - mse: 34399564.0000 - val_loss: 35967924.0000 - val_mae: 4076.2178 - val_mse: 35967924.0000\n",
      "Epoch 32/100\n",
      "\u001b[1m27/27\u001b[0m \u001b[32m━━━━━━━━━━━━━━━━━━━━\u001b[0m\u001b[37m\u001b[0m \u001b[1m0s\u001b[0m 3ms/step - loss: 33205548.0000 - mae: 4098.5215 - mse: 33205548.0000 - val_loss: 35487772.0000 - val_mae: 4052.0759 - val_mse: 35487772.0000\n",
      "Epoch 33/100\n",
      "\u001b[1m27/27\u001b[0m \u001b[32m━━━━━━━━━━━━━━━━━━━━\u001b[0m\u001b[37m\u001b[0m \u001b[1m0s\u001b[0m 3ms/step - loss: 34521364.0000 - mae: 4138.8247 - mse: 34521364.0000 - val_loss: 35118708.0000 - val_mae: 4030.3442 - val_mse: 35118708.0000\n",
      "Epoch 34/100\n",
      "\u001b[1m27/27\u001b[0m \u001b[32m━━━━━━━━━━━━━━━━━━━━\u001b[0m\u001b[37m\u001b[0m \u001b[1m0s\u001b[0m 2ms/step - loss: 33728792.0000 - mae: 4087.4631 - mse: 33728792.0000 - val_loss: 34815172.0000 - val_mae: 4012.4375 - val_mse: 34815172.0000\n",
      "Epoch 35/100\n",
      "\u001b[1m27/27\u001b[0m \u001b[32m━━━━━━━━━━━━━━━━━━━━\u001b[0m\u001b[37m\u001b[0m \u001b[1m0s\u001b[0m 3ms/step - loss: 31871376.0000 - mae: 3970.9644 - mse: 31871376.0000 - val_loss: 34577404.0000 - val_mae: 3994.6699 - val_mse: 34577404.0000\n",
      "Epoch 36/100\n",
      "\u001b[1m27/27\u001b[0m \u001b[32m━━━━━━━━━━━━━━━━━━━━\u001b[0m\u001b[37m\u001b[0m \u001b[1m0s\u001b[0m 2ms/step - loss: 32578940.0000 - mae: 4028.8843 - mse: 32578940.0000 - val_loss: 34377688.0000 - val_mae: 3977.5776 - val_mse: 34377688.0000\n",
      "Epoch 37/100\n",
      "\u001b[1m27/27\u001b[0m \u001b[32m━━━━━━━━━━━━━━━━━━━━\u001b[0m\u001b[37m\u001b[0m \u001b[1m0s\u001b[0m 3ms/step - loss: 32699478.0000 - mae: 4018.3713 - mse: 32699478.0000 - val_loss: 34153464.0000 - val_mae: 3963.3359 - val_mse: 34153464.0000\n",
      "Epoch 38/100\n",
      "\u001b[1m27/27\u001b[0m \u001b[32m━━━━━━━━━━━━━━━━━━━━\u001b[0m\u001b[37m\u001b[0m \u001b[1m0s\u001b[0m 3ms/step - loss: 33844412.0000 - mae: 4046.6111 - mse: 33844412.0000 - val_loss: 33996336.0000 - val_mae: 3950.8130 - val_mse: 33996336.0000\n",
      "Epoch 39/100\n",
      "\u001b[1m27/27\u001b[0m \u001b[32m━━━━━━━━━━━━━━━━━━━━\u001b[0m\u001b[37m\u001b[0m \u001b[1m0s\u001b[0m 3ms/step - loss: 33987692.0000 - mae: 4088.1780 - mse: 33987692.0000 - val_loss: 33859424.0000 - val_mae: 3938.8149 - val_mse: 33859424.0000\n",
      "Epoch 40/100\n",
      "\u001b[1m27/27\u001b[0m \u001b[32m━━━━━━━━━━━━━━━━━━━━\u001b[0m\u001b[37m\u001b[0m \u001b[1m0s\u001b[0m 3ms/step - loss: 32953344.0000 - mae: 4026.3782 - mse: 32953344.0000 - val_loss: 33754388.0000 - val_mae: 3926.3938 - val_mse: 33754388.0000\n",
      "Epoch 41/100\n",
      "\u001b[1m27/27\u001b[0m \u001b[32m━━━━━━━━━━━━━━━━━━━━\u001b[0m\u001b[37m\u001b[0m \u001b[1m0s\u001b[0m 3ms/step - loss: 34448416.0000 - mae: 4060.0801 - mse: 34448416.0000 - val_loss: 33660840.0000 - val_mae: 3911.2534 - val_mse: 33660840.0000\n",
      "Epoch 42/100\n",
      "\u001b[1m27/27\u001b[0m \u001b[32m━━━━━━━━━━━━━━━━━━━━\u001b[0m\u001b[37m\u001b[0m \u001b[1m0s\u001b[0m 3ms/step - loss: 32855138.0000 - mae: 3962.7144 - mse: 32855138.0000 - val_loss: 33593620.0000 - val_mae: 3898.2644 - val_mse: 33593620.0000\n",
      "Epoch 43/100\n",
      "\u001b[1m27/27\u001b[0m \u001b[32m━━━━━━━━━━━━━━━━━━━━\u001b[0m\u001b[37m\u001b[0m \u001b[1m0s\u001b[0m 3ms/step - loss: 33733916.0000 - mae: 4024.9524 - mse: 33733916.0000 - val_loss: 33499992.0000 - val_mae: 3887.1235 - val_mse: 33499992.0000\n",
      "Epoch 44/100\n",
      "\u001b[1m27/27\u001b[0m \u001b[32m━━━━━━━━━━━━━━━━━━━━\u001b[0m\u001b[37m\u001b[0m \u001b[1m0s\u001b[0m 3ms/step - loss: 33783968.0000 - mae: 4062.9211 - mse: 33783968.0000 - val_loss: 33436296.0000 - val_mae: 3876.6147 - val_mse: 33436296.0000\n",
      "Epoch 45/100\n",
      "\u001b[1m27/27\u001b[0m \u001b[32m━━━━━━━━━━━━━━━━━━━━\u001b[0m\u001b[37m\u001b[0m \u001b[1m0s\u001b[0m 3ms/step - loss: 32944688.0000 - mae: 3954.3528 - mse: 32944688.0000 - val_loss: 33391498.0000 - val_mae: 3868.8879 - val_mse: 33391498.0000\n",
      "Epoch 46/100\n",
      "\u001b[1m27/27\u001b[0m \u001b[32m━━━━━━━━━━━━━━━━━━━━\u001b[0m\u001b[37m\u001b[0m \u001b[1m0s\u001b[0m 3ms/step - loss: 34467208.0000 - mae: 4056.6252 - mse: 34467208.0000 - val_loss: 33302624.0000 - val_mae: 3858.1907 - val_mse: 33302624.0000\n",
      "Epoch 47/100\n",
      "\u001b[1m27/27\u001b[0m \u001b[32m━━━━━━━━━━━━━━━━━━━━\u001b[0m\u001b[37m\u001b[0m \u001b[1m0s\u001b[0m 2ms/step - loss: 33454998.0000 - mae: 3992.6487 - mse: 33454998.0000 - val_loss: 33231552.0000 - val_mae: 3851.0461 - val_mse: 33231552.0000\n",
      "Epoch 48/100\n",
      "\u001b[1m27/27\u001b[0m \u001b[32m━━━━━━━━━━━━━━━━━━━━\u001b[0m\u001b[37m\u001b[0m \u001b[1m0s\u001b[0m 2ms/step - loss: 34134808.0000 - mae: 4035.4722 - mse: 34134808.0000 - val_loss: 33155166.0000 - val_mae: 3844.6191 - val_mse: 33155166.0000\n",
      "Epoch 49/100\n",
      "\u001b[1m27/27\u001b[0m \u001b[32m━━━━━━━━━━━━━━━━━━━━\u001b[0m\u001b[37m\u001b[0m \u001b[1m0s\u001b[0m 2ms/step - loss: 33205372.0000 - mae: 3973.9653 - mse: 33205372.0000 - val_loss: 33098968.0000 - val_mae: 3838.2083 - val_mse: 33098968.0000\n",
      "Epoch 50/100\n",
      "\u001b[1m27/27\u001b[0m \u001b[32m━━━━━━━━━━━━━━━━━━━━\u001b[0m\u001b[37m\u001b[0m \u001b[1m0s\u001b[0m 2ms/step - loss: 33528838.0000 - mae: 3971.9551 - mse: 33528838.0000 - val_loss: 33033334.0000 - val_mae: 3830.6887 - val_mse: 33033334.0000\n",
      "Epoch 51/100\n",
      "\u001b[1m27/27\u001b[0m \u001b[32m━━━━━━━━━━━━━━━━━━━━\u001b[0m\u001b[37m\u001b[0m \u001b[1m0s\u001b[0m 2ms/step - loss: 32696984.0000 - mae: 3925.2300 - mse: 32696984.0000 - val_loss: 32976420.0000 - val_mae: 3825.0269 - val_mse: 32976420.0000\n",
      "Epoch 52/100\n",
      "\u001b[1m27/27\u001b[0m \u001b[32m━━━━━━━━━━━━━━━━━━━━\u001b[0m\u001b[37m\u001b[0m \u001b[1m0s\u001b[0m 2ms/step - loss: 32674594.0000 - mae: 3939.4717 - mse: 32674594.0000 - val_loss: 32958526.0000 - val_mae: 3817.0374 - val_mse: 32958526.0000\n",
      "Epoch 53/100\n",
      "\u001b[1m27/27\u001b[0m \u001b[32m━━━━━━━━━━━━━━━━━━━━\u001b[0m\u001b[37m\u001b[0m \u001b[1m0s\u001b[0m 3ms/step - loss: 33268356.0000 - mae: 3993.5198 - mse: 33268356.0000 - val_loss: 32937632.0000 - val_mae: 3812.0706 - val_mse: 32937632.0000\n",
      "Epoch 54/100\n",
      "\u001b[1m27/27\u001b[0m \u001b[32m━━━━━━━━━━━━━━━━━━━━\u001b[0m\u001b[37m\u001b[0m \u001b[1m0s\u001b[0m 3ms/step - loss: 34129140.0000 - mae: 4052.0132 - mse: 34129140.0000 - val_loss: 32884930.0000 - val_mae: 3804.3442 - val_mse: 32884930.0000\n",
      "Epoch 55/100\n",
      "\u001b[1m27/27\u001b[0m \u001b[32m━━━━━━━━━━━━━━━━━━━━\u001b[0m\u001b[37m\u001b[0m \u001b[1m0s\u001b[0m 3ms/step - loss: 33943992.0000 - mae: 3991.4146 - mse: 33943992.0000 - val_loss: 32854182.0000 - val_mae: 3799.6426 - val_mse: 32854182.0000\n",
      "Epoch 56/100\n",
      "\u001b[1m27/27\u001b[0m \u001b[32m━━━━━━━━━━━━━━━━━━━━\u001b[0m\u001b[37m\u001b[0m \u001b[1m0s\u001b[0m 3ms/step - loss: 34277160.0000 - mae: 4013.7610 - mse: 34277160.0000 - val_loss: 32814688.0000 - val_mae: 3793.7124 - val_mse: 32814688.0000\n",
      "Epoch 57/100\n",
      "\u001b[1m27/27\u001b[0m \u001b[32m━━━━━━━━━━━━━━━━━━━━\u001b[0m\u001b[37m\u001b[0m \u001b[1m0s\u001b[0m 3ms/step - loss: 33755628.0000 - mae: 3949.6492 - mse: 33755628.0000 - val_loss: 32797082.0000 - val_mae: 3788.8169 - val_mse: 32797082.0000\n",
      "Epoch 58/100\n",
      "\u001b[1m27/27\u001b[0m \u001b[32m━━━━━━━━━━━━━━━━━━━━\u001b[0m\u001b[37m\u001b[0m \u001b[1m0s\u001b[0m 3ms/step - loss: 32865978.0000 - mae: 3917.4326 - mse: 32865978.0000 - val_loss: 32804910.0000 - val_mae: 3787.7451 - val_mse: 32804910.0000\n",
      "Epoch 59/100\n",
      "\u001b[1m27/27\u001b[0m \u001b[32m━━━━━━━━━━━━━━━━━━━━\u001b[0m\u001b[37m\u001b[0m \u001b[1m0s\u001b[0m 3ms/step - loss: 33503468.0000 - mae: 3922.4165 - mse: 33503468.0000 - val_loss: 32766832.0000 - val_mae: 3785.8423 - val_mse: 32766832.0000\n",
      "Epoch 60/100\n",
      "\u001b[1m27/27\u001b[0m \u001b[32m━━━━━━━━━━━━━━━━━━━━\u001b[0m\u001b[37m\u001b[0m \u001b[1m0s\u001b[0m 3ms/step - loss: 33381436.0000 - mae: 3970.6489 - mse: 33381436.0000 - val_loss: 32730546.0000 - val_mae: 3784.4780 - val_mse: 32730546.0000\n",
      "Epoch 61/100\n",
      "\u001b[1m27/27\u001b[0m \u001b[32m━━━━━━━━━━━━━━━━━━━━\u001b[0m\u001b[37m\u001b[0m \u001b[1m0s\u001b[0m 2ms/step - loss: 32796588.0000 - mae: 3931.1060 - mse: 32796588.0000 - val_loss: 32684528.0000 - val_mae: 3778.3582 - val_mse: 32684528.0000\n",
      "Epoch 62/100\n",
      "\u001b[1m27/27\u001b[0m \u001b[32m━━━━━━━━━━━━━━━━━━━━\u001b[0m\u001b[37m\u001b[0m \u001b[1m0s\u001b[0m 3ms/step - loss: 32798806.0000 - mae: 3907.2317 - mse: 32798806.0000 - val_loss: 32636244.0000 - val_mae: 3772.2837 - val_mse: 32636244.0000\n",
      "Epoch 63/100\n",
      "\u001b[1m27/27\u001b[0m \u001b[32m━━━━━━━━━━━━━━━━━━━━\u001b[0m\u001b[37m\u001b[0m \u001b[1m0s\u001b[0m 3ms/step - loss: 33355258.0000 - mae: 3951.7505 - mse: 33355258.0000 - val_loss: 32626982.0000 - val_mae: 3768.3650 - val_mse: 32626982.0000\n",
      "Epoch 64/100\n",
      "\u001b[1m27/27\u001b[0m \u001b[32m━━━━━━━━━━━━━━━━━━━━\u001b[0m\u001b[37m\u001b[0m \u001b[1m0s\u001b[0m 2ms/step - loss: 33269862.0000 - mae: 3951.9016 - mse: 33269862.0000 - val_loss: 32616818.0000 - val_mae: 3768.2937 - val_mse: 32616818.0000\n",
      "Epoch 65/100\n",
      "\u001b[1m27/27\u001b[0m \u001b[32m━━━━━━━━━━━━━━━━━━━━\u001b[0m\u001b[37m\u001b[0m \u001b[1m0s\u001b[0m 3ms/step - loss: 32625420.0000 - mae: 3885.1592 - mse: 32625420.0000 - val_loss: 32608154.0000 - val_mae: 3765.1086 - val_mse: 32608154.0000\n",
      "Epoch 66/100\n",
      "\u001b[1m27/27\u001b[0m \u001b[32m━━━━━━━━━━━━━━━━━━━━\u001b[0m\u001b[37m\u001b[0m \u001b[1m0s\u001b[0m 3ms/step - loss: 33107828.0000 - mae: 3935.0620 - mse: 33107828.0000 - val_loss: 32570390.0000 - val_mae: 3761.8298 - val_mse: 32570390.0000\n",
      "Epoch 67/100\n",
      "\u001b[1m27/27\u001b[0m \u001b[32m━━━━━━━━━━━━━━━━━━━━\u001b[0m\u001b[37m\u001b[0m \u001b[1m0s\u001b[0m 3ms/step - loss: 33097940.0000 - mae: 3904.3425 - mse: 33097940.0000 - val_loss: 32548538.0000 - val_mae: 3759.5010 - val_mse: 32548538.0000\n",
      "Epoch 68/100\n",
      "\u001b[1m27/27\u001b[0m \u001b[32m━━━━━━━━━━━━━━━━━━━━\u001b[0m\u001b[37m\u001b[0m \u001b[1m0s\u001b[0m 2ms/step - loss: 33524172.0000 - mae: 3960.2600 - mse: 33524172.0000 - val_loss: 32529538.0000 - val_mae: 3754.6350 - val_mse: 32529538.0000\n",
      "Epoch 69/100\n",
      "\u001b[1m27/27\u001b[0m \u001b[32m━━━━━━━━━━━━━━━━━━━━\u001b[0m\u001b[37m\u001b[0m \u001b[1m0s\u001b[0m 2ms/step - loss: 32146170.0000 - mae: 3856.6567 - mse: 32146170.0000 - val_loss: 32497916.0000 - val_mae: 3746.2070 - val_mse: 32497916.0000\n",
      "Epoch 70/100\n",
      "\u001b[1m27/27\u001b[0m \u001b[32m━━━━━━━━━━━━━━━━━━━━\u001b[0m\u001b[37m\u001b[0m \u001b[1m0s\u001b[0m 2ms/step - loss: 32723058.0000 - mae: 3901.8794 - mse: 32723058.0000 - val_loss: 32467672.0000 - val_mae: 3742.6738 - val_mse: 32467672.0000\n",
      "Epoch 71/100\n",
      "\u001b[1m27/27\u001b[0m \u001b[32m━━━━━━━━━━━━━━━━━━━━\u001b[0m\u001b[37m\u001b[0m \u001b[1m0s\u001b[0m 3ms/step - loss: 31556370.0000 - mae: 3803.1663 - mse: 31556370.0000 - val_loss: 32465176.0000 - val_mae: 3737.8938 - val_mse: 32465176.0000\n",
      "Epoch 72/100\n",
      "\u001b[1m27/27\u001b[0m \u001b[32m━━━━━━━━━━━━━━━━━━━━\u001b[0m\u001b[37m\u001b[0m \u001b[1m0s\u001b[0m 2ms/step - loss: 32500306.0000 - mae: 3869.4597 - mse: 32500306.0000 - val_loss: 32414034.0000 - val_mae: 3736.0012 - val_mse: 32414034.0000\n",
      "Epoch 73/100\n",
      "\u001b[1m27/27\u001b[0m \u001b[32m━━━━━━━━━━━━━━━━━━━━\u001b[0m\u001b[37m\u001b[0m \u001b[1m0s\u001b[0m 3ms/step - loss: 32561846.0000 - mae: 3882.4006 - mse: 32561846.0000 - val_loss: 32385114.0000 - val_mae: 3735.2810 - val_mse: 32385114.0000\n",
      "Epoch 74/100\n",
      "\u001b[1m27/27\u001b[0m \u001b[32m━━━━━━━━━━━━━━━━━━━━\u001b[0m\u001b[37m\u001b[0m \u001b[1m0s\u001b[0m 3ms/step - loss: 32958886.0000 - mae: 3949.3892 - mse: 32958886.0000 - val_loss: 32379402.0000 - val_mae: 3732.8804 - val_mse: 32379402.0000\n",
      "Epoch 75/100\n",
      "\u001b[1m27/27\u001b[0m \u001b[32m━━━━━━━━━━━━━━━━━━━━\u001b[0m\u001b[37m\u001b[0m \u001b[1m0s\u001b[0m 2ms/step - loss: 33137462.0000 - mae: 3906.6755 - mse: 33137462.0000 - val_loss: 32316378.0000 - val_mae: 3728.5706 - val_mse: 32316378.0000\n",
      "Epoch 76/100\n",
      "\u001b[1m27/27\u001b[0m \u001b[32m━━━━━━━━━━━━━━━━━━━━\u001b[0m\u001b[37m\u001b[0m \u001b[1m0s\u001b[0m 2ms/step - loss: 33066472.0000 - mae: 3941.2490 - mse: 33066472.0000 - val_loss: 32332010.0000 - val_mae: 3725.0908 - val_mse: 32332010.0000\n",
      "Epoch 77/100\n",
      "\u001b[1m27/27\u001b[0m \u001b[32m━━━━━━━━━━━━━━━━━━━━\u001b[0m\u001b[37m\u001b[0m \u001b[1m0s\u001b[0m 2ms/step - loss: 32612672.0000 - mae: 3886.1096 - mse: 32612672.0000 - val_loss: 32302356.0000 - val_mae: 3722.3440 - val_mse: 32302356.0000\n",
      "Epoch 78/100\n",
      "\u001b[1m27/27\u001b[0m \u001b[32m━━━━━━━━━━━━━━━━━━━━\u001b[0m\u001b[37m\u001b[0m \u001b[1m0s\u001b[0m 2ms/step - loss: 32883518.0000 - mae: 3867.0786 - mse: 32883518.0000 - val_loss: 32305626.0000 - val_mae: 3717.5330 - val_mse: 32305626.0000\n",
      "Epoch 79/100\n",
      "\u001b[1m27/27\u001b[0m \u001b[32m━━━━━━━━━━━━━━━━━━━━\u001b[0m\u001b[37m\u001b[0m \u001b[1m0s\u001b[0m 2ms/step - loss: 32434780.0000 - mae: 3855.3110 - mse: 32434780.0000 - val_loss: 32226366.0000 - val_mae: 3722.0571 - val_mse: 32226366.0000\n",
      "Epoch 80/100\n",
      "\u001b[1m27/27\u001b[0m \u001b[32m━━━━━━━━━━━━━━━━━━━━\u001b[0m\u001b[37m\u001b[0m \u001b[1m0s\u001b[0m 2ms/step - loss: 33925132.0000 - mae: 3993.6621 - mse: 33925132.0000 - val_loss: 32214872.0000 - val_mae: 3721.0996 - val_mse: 32214872.0000\n",
      "Epoch 81/100\n",
      "\u001b[1m27/27\u001b[0m \u001b[32m━━━━━━━━━━━━━━━━━━━━\u001b[0m\u001b[37m\u001b[0m \u001b[1m0s\u001b[0m 2ms/step - loss: 32112636.0000 - mae: 3832.0405 - mse: 32112636.0000 - val_loss: 32171418.0000 - val_mae: 3716.5369 - val_mse: 32171418.0000\n",
      "Epoch 82/100\n",
      "\u001b[1m27/27\u001b[0m \u001b[32m━━━━━━━━━━━━━━━━━━━━\u001b[0m\u001b[37m\u001b[0m \u001b[1m0s\u001b[0m 2ms/step - loss: 31676338.0000 - mae: 3846.9275 - mse: 31676338.0000 - val_loss: 32156396.0000 - val_mae: 3712.0608 - val_mse: 32156396.0000\n",
      "Epoch 83/100\n",
      "\u001b[1m27/27\u001b[0m \u001b[32m━━━━━━━━━━━━━━━━━━━━\u001b[0m\u001b[37m\u001b[0m \u001b[1m0s\u001b[0m 2ms/step - loss: 31067042.0000 - mae: 3790.0068 - mse: 31067042.0000 - val_loss: 32127918.0000 - val_mae: 3709.2014 - val_mse: 32127918.0000\n",
      "Epoch 84/100\n",
      "\u001b[1m27/27\u001b[0m \u001b[32m━━━━━━━━━━━━━━━━━━━━\u001b[0m\u001b[37m\u001b[0m \u001b[1m0s\u001b[0m 2ms/step - loss: 32391700.0000 - mae: 3833.6135 - mse: 32391700.0000 - val_loss: 32095318.0000 - val_mae: 3710.6360 - val_mse: 32095316.0000\n",
      "Epoch 85/100\n",
      "\u001b[1m27/27\u001b[0m \u001b[32m━━━━━━━━━━━━━━━━━━━━\u001b[0m\u001b[37m\u001b[0m \u001b[1m0s\u001b[0m 3ms/step - loss: 33270590.0000 - mae: 3910.1028 - mse: 33270590.0000 - val_loss: 32083424.0000 - val_mae: 3710.2971 - val_mse: 32083424.0000\n",
      "Epoch 86/100\n",
      "\u001b[1m27/27\u001b[0m \u001b[32m━━━━━━━━━━━━━━━━━━━━\u001b[0m\u001b[37m\u001b[0m \u001b[1m0s\u001b[0m 3ms/step - loss: 31657308.0000 - mae: 3794.8264 - mse: 31657308.0000 - val_loss: 32023296.0000 - val_mae: 3708.9355 - val_mse: 32023296.0000\n",
      "Epoch 87/100\n",
      "\u001b[1m27/27\u001b[0m \u001b[32m━━━━━━━━━━━━━━━━━━━━\u001b[0m\u001b[37m\u001b[0m \u001b[1m0s\u001b[0m 2ms/step - loss: 32534732.0000 - mae: 3871.6785 - mse: 32534732.0000 - val_loss: 32014860.0000 - val_mae: 3706.3909 - val_mse: 32014860.0000\n",
      "Epoch 88/100\n",
      "\u001b[1m27/27\u001b[0m \u001b[32m━━━━━━━━━━━━━━━━━━━━\u001b[0m\u001b[37m\u001b[0m \u001b[1m0s\u001b[0m 2ms/step - loss: 32345066.0000 - mae: 3819.8499 - mse: 32345066.0000 - val_loss: 32018496.0000 - val_mae: 3705.8174 - val_mse: 32018496.0000\n",
      "Epoch 89/100\n",
      "\u001b[1m27/27\u001b[0m \u001b[32m━━━━━━━━━━━━━━━━━━━━\u001b[0m\u001b[37m\u001b[0m \u001b[1m0s\u001b[0m 3ms/step - loss: 32884920.0000 - mae: 3834.3076 - mse: 32884920.0000 - val_loss: 31963284.0000 - val_mae: 3706.0837 - val_mse: 31963284.0000\n",
      "Epoch 90/100\n",
      "\u001b[1m27/27\u001b[0m \u001b[32m━━━━━━━━━━━━━━━━━━━━\u001b[0m\u001b[37m\u001b[0m \u001b[1m0s\u001b[0m 3ms/step - loss: 32719286.0000 - mae: 3836.8113 - mse: 32719286.0000 - val_loss: 31994564.0000 - val_mae: 3702.1536 - val_mse: 31994564.0000\n",
      "Epoch 91/100\n",
      "\u001b[1m27/27\u001b[0m \u001b[32m━━━━━━━━━━━━━━━━━━━━\u001b[0m\u001b[37m\u001b[0m \u001b[1m0s\u001b[0m 2ms/step - loss: 32682006.0000 - mae: 3874.1511 - mse: 32682006.0000 - val_loss: 31971338.0000 - val_mae: 3703.6091 - val_mse: 31971340.0000\n",
      "Epoch 92/100\n",
      "\u001b[1m27/27\u001b[0m \u001b[32m━━━━━━━━━━━━━━━━━━━━\u001b[0m\u001b[37m\u001b[0m \u001b[1m0s\u001b[0m 3ms/step - loss: 32582162.0000 - mae: 3828.8884 - mse: 32582162.0000 - val_loss: 31943874.0000 - val_mae: 3702.7573 - val_mse: 31943874.0000\n",
      "Epoch 93/100\n",
      "\u001b[1m27/27\u001b[0m \u001b[32m━━━━━━━━━━━━━━━━━━━━\u001b[0m\u001b[37m\u001b[0m \u001b[1m0s\u001b[0m 3ms/step - loss: 31582640.0000 - mae: 3794.3413 - mse: 31582640.0000 - val_loss: 31879616.0000 - val_mae: 3699.6907 - val_mse: 31879616.0000\n",
      "Epoch 94/100\n",
      "\u001b[1m27/27\u001b[0m \u001b[32m━━━━━━━━━━━━━━━━━━━━\u001b[0m\u001b[37m\u001b[0m \u001b[1m0s\u001b[0m 2ms/step - loss: 32966404.0000 - mae: 3882.1128 - mse: 32966404.0000 - val_loss: 31867400.0000 - val_mae: 3697.7810 - val_mse: 31867400.0000\n",
      "Epoch 95/100\n",
      "\u001b[1m27/27\u001b[0m \u001b[32m━━━━━━━━━━━━━━━━━━━━\u001b[0m\u001b[37m\u001b[0m \u001b[1m0s\u001b[0m 3ms/step - loss: 32277562.0000 - mae: 3836.3662 - mse: 32277562.0000 - val_loss: 31842380.0000 - val_mae: 3693.0017 - val_mse: 31842380.0000\n",
      "Epoch 96/100\n",
      "\u001b[1m27/27\u001b[0m \u001b[32m━━━━━━━━━━━━━━━━━━━━\u001b[0m\u001b[37m\u001b[0m \u001b[1m0s\u001b[0m 2ms/step - loss: 32779082.0000 - mae: 3897.8752 - mse: 32779082.0000 - val_loss: 31781184.0000 - val_mae: 3686.6887 - val_mse: 31781184.0000\n",
      "Epoch 97/100\n",
      "\u001b[1m27/27\u001b[0m \u001b[32m━━━━━━━━━━━━━━━━━━━━\u001b[0m\u001b[37m\u001b[0m \u001b[1m0s\u001b[0m 2ms/step - loss: 33904596.0000 - mae: 3948.5674 - mse: 33904596.0000 - val_loss: 31748754.0000 - val_mae: 3679.8318 - val_mse: 31748754.0000\n",
      "Epoch 98/100\n",
      "\u001b[1m27/27\u001b[0m \u001b[32m━━━━━━━━━━━━━━━━━━━━\u001b[0m\u001b[37m\u001b[0m \u001b[1m0s\u001b[0m 2ms/step - loss: 32428420.0000 - mae: 3867.8137 - mse: 32428420.0000 - val_loss: 31678594.0000 - val_mae: 3677.5645 - val_mse: 31678594.0000\n",
      "Epoch 99/100\n",
      "\u001b[1m27/27\u001b[0m \u001b[32m━━━━━━━━━━━━━━━━━━━━\u001b[0m\u001b[37m\u001b[0m \u001b[1m0s\u001b[0m 2ms/step - loss: 31151424.0000 - mae: 3771.8557 - mse: 31151424.0000 - val_loss: 31693950.0000 - val_mae: 3672.7646 - val_mse: 31693950.0000\n",
      "Epoch 100/100\n",
      "\u001b[1m27/27\u001b[0m \u001b[32m━━━━━━━━━━━━━━━━━━━━\u001b[0m\u001b[37m\u001b[0m \u001b[1m0s\u001b[0m 3ms/step - loss: 33046280.0000 - mae: 3913.1345 - mse: 33046280.0000 - val_loss: 31718944.0000 - val_mae: 3668.1240 - val_mse: 31718944.0000\n"
     ]
    },
    {
     "data": {
      "text/plain": [
       "<keras.src.callbacks.history.History at 0x7cb8735d75e0>"
      ]
     },
     "execution_count": 14,
     "metadata": {},
     "output_type": "execute_result"
    }
   ],
   "source": [
    "# Build the TensorFlow linear regression model with adjustments to the the model architecture and hyperparameters\n",
    "model = tf.keras.Sequential([\n",
    "    tf.keras.layers.Dense(units=128, activation='relu', input_shape=X_train_scaled.shape[1:]),\n",
    "    tf.keras.layers.Dropout(0.3),\n",
    "    tf.keras.layers.Dense(units=64, activation='relu'),\n",
    "    tf.keras.layers.Dense(units=1)\n",
    "])\n",
    "\n",
    "model.compile(\n",
    "    optimizer=tf.keras.optimizers.Adam(learning_rate=0.0012),\n",
    "    loss='mean_squared_error',\n",
    "    metrics=['mae', 'mse']\n",
    ")\n",
    "\n",
    "early_stopping = tf.keras.callbacks.EarlyStopping(\n",
    "    monitor='val_loss',\n",
    "    patience=10,\n",
    "    restore_best_weights=True\n",
    ")\n",
    "\n",
    "model.fit(\n",
    "    X_train_scaled, y_train,\n",
    "    epochs=100,\n",
    "    validation_split=0.2,  # Use a portion of data for validation\n",
    "    callbacks=[early_stopping],\n",
    "    verbose=1\n",
    ")\n",
    "\n",
    "# Compile the model\n",
    "model.compile(optimizer='adam', loss='mean_squared_error', metrics=['mae', 'mse'])\n",
    "\n",
    "# Train the model\n",
    "model.fit(X_train_scaled, y_train, epochs=100, verbose=0)"
   ]
  },
  {
   "cell_type": "code",
   "execution_count": 15,
   "id": "d145eded",
   "metadata": {
    "execution": {
     "iopub.execute_input": "2024-08-09T14:42:39.324738Z",
     "iopub.status.busy": "2024-08-09T14:42:39.324083Z",
     "iopub.status.idle": "2024-08-09T14:42:39.909532Z",
     "shell.execute_reply": "2024-08-09T14:42:39.908334Z"
    },
    "papermill": {
     "duration": 0.615918,
     "end_time": "2024-08-09T14:42:39.911797",
     "exception": false,
     "start_time": "2024-08-09T14:42:39.295879",
     "status": "completed"
    },
    "tags": []
   },
   "outputs": [
    {
     "name": "stdout",
     "output_type": "stream",
     "text": [
      "9/9 - 0s - 16ms/step - loss: 25953376.0000 - mae: 3335.6719 - mse: 25953376.0000\n",
      "Testing set Mean Abs Error: 3335.67 expenses\n",
      "You passed the challenge. Great job!\n",
      "\u001b[1m9/9\u001b[0m \u001b[32m━━━━━━━━━━━━━━━━━━━━\u001b[0m\u001b[37m\u001b[0m \u001b[1m0s\u001b[0m 5ms/step \n"
     ]
    },
    {
     "data": {
      "image/png": "[encoded data removed]",
      "text/plain": [
       "<Figure size 640x480 with 1 Axes>"
      ]
     },
     "metadata": {},
     "output_type": "display_data"
    }
   ],
   "source": [
    "# Test model by checking how well the model generalizes using the test set.\n",
    "loss, mae, mse = model.evaluate(test_dataset, test_labels, verbose=2)\n",
    "\n",
    "print(\"Testing set Mean Abs Error: {:5.2f} expenses\".format(mae))\n",
    "\n",
    "if mae < 3500:\n",
    "    print(\"You passed the challenge. Great job!\")\n",
    "else:\n",
    "    print(\"The Mean Abs Error must be less than 3500. Keep trying.\")\n",
    "\n",
    "# Plot predictions.\n",
    "test_predictions = model.predict(test_dataset).flatten()\n",
    "\n",
    "a = plt.axes(aspect='equal')\n",
    "plt.scatter(test_labels, test_predictions)\n",
    "plt.xlabel('True values (expenses)')\n",
    "plt.ylabel('Predictions (expenses)')\n",
    "lims = [0, 50000]\n",
    "plt.xlim(lims)\n",
    "plt.ylim(lims)\n",
    "_ = plt.plot(lims,lims)"
   ]
  },
  {
   "cell_type": "code",
   "execution_count": null,
   "id": "615e2df8",
   "metadata": {
    "papermill": {
     "duration": 0.027193,
     "end_time": "2024-08-09T14:42:39.967100",
     "exception": false,
     "start_time": "2024-08-09T14:42:39.939907",
     "status": "completed"
    },
    "tags": []
   },
   "outputs": [],
   "source": []
  }
 ],
 "metadata": {
  "kaggle": {
   "accelerator": "none",
   "dataSources": [],
   "dockerImageVersionId": 30698,
   "isGpuEnabled": false,
   "isInternetEnabled": true,
   "language": "python",
   "sourceType": "notebook"
  },
  "kernelspec": {
   "display_name": "Python 3",
   "language": "python",
   "name": "python3"
  },
  "language_info": {
   "codemirror_mode": {
    "name": "ipython",
    "version": 3
   },
   "file_extension": ".py",
   "mimetype": "text/x-python",
   "name": "python",
   "nbconvert_exporter": "python",
   "pygments_lexer": "ipython3",
   "version": "3.10.13"
  },
  "papermill": {
   "default_parameters": {},
   "duration": 59.702936,
   "end_time": "2024-08-09T14:42:41.519254",
   "environment_variables": {},
   "exception": null,
   "input_path": "__notebook__.ipynb",
   "output_path": "__notebook__.ipynb",
   "parameters": {},
   "start_time": "2024-08-09T14:41:41.816318",
   "version": "2.5.0"
  }
 },
 "nbformat": 4,
 "nbformat_minor": 5
}
